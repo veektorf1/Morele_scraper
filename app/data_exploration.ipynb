{
 "cells": [
  {
   "cell_type": "code",
   "execution_count": 60,
   "metadata": {},
   "outputs": [],
   "source": [
    "import pandas as pd\n",
    "import matplotlib.pyplot as plt"
   ]
  },
  {
   "cell_type": "code",
   "execution_count": null,
   "metadata": {},
   "outputs": [],
   "source": [
    "\n",
    "df = pd.read_json(\"data.json\")"
   ]
  },
  {
   "cell_type": "markdown",
   "metadata": {},
   "source": [
    "### DATA EXPLORATION"
   ]
  },
  {
   "cell_type": "code",
   "execution_count": 47,
   "metadata": {},
   "outputs": [
    {
     "name": "stdout",
     "output_type": "stream",
     "text": [
      "<class 'pandas.core.frame.DataFrame'>\n",
      "RangeIndex: 521 entries, 0 to 520\n",
      "Data columns (total 14 columns):\n",
      " #   Column            Non-Null Count  Dtype  \n",
      "---  ------            --------------  -----  \n",
      " 0   card_length       439 non-null    float64\n",
      " 1   card_length_unit  439 non-null    object \n",
      " 2   RAM               498 non-null    float64\n",
      " 3   RAM_unit          498 non-null    object \n",
      " 4   chipset           486 non-null    object \n",
      " 5   clock_speed       407 non-null    float64\n",
      " 6   clock_speed_unit  407 non-null    object \n",
      " 7   merging           490 non-null    object \n",
      " 8   rating_count      521 non-null    int64  \n",
      " 9   questions_count   521 non-null    int64  \n",
      " 10  purchases_count   521 non-null    int64  \n",
      " 11  rating            237 non-null    float64\n",
      " 12  name              521 non-null    object \n",
      " 13  price             513 non-null    float64\n",
      "dtypes: float64(5), int64(3), object(6)\n",
      "memory usage: 57.1+ KB\n"
     ]
    }
   ],
   "source": [
    "df.info()"
   ]
  },
  {
   "cell_type": "code",
   "execution_count": 48,
   "metadata": {},
   "outputs": [
    {
     "name": "stdout",
     "output_type": "stream",
     "text": [
      "card_length        : (15.74%) null columns\n",
      "card_length_unit   : (15.74%) null columns\n",
      "RAM                : ( 4.41%) null columns\n",
      "RAM_unit           : ( 4.41%) null columns\n",
      "chipset            : ( 6.72%) null columns\n",
      "clock_speed        : (21.88%) null columns\n",
      "clock_speed_unit   : (21.88%) null columns\n",
      "merging            : ( 5.95%) null columns\n",
      "rating_count       : ( 0.00%) null columns\n",
      "questions_count    : ( 0.00%) null columns\n",
      "purchases_count    : ( 0.00%) null columns\n",
      "rating             : (54.51%) null columns\n",
      "name               : ( 0.00%) null columns\n",
      "price              : ( 1.54%) null columns\n"
     ]
    }
   ],
   "source": [
    "for col in df.columns:\n",
    "    not_null_count = df[col].isnull().sum()\n",
    "    num_rows = df.shape[0]\n",
    "    print(f\"{col:18} : ({(not_null_count / num_rows) * 100:5.2f}%) null columns\")"
   ]
  },
  {
   "cell_type": "code",
   "execution_count": 49,
   "metadata": {},
   "outputs": [
    {
     "name": "stdout",
     "output_type": "stream",
     "text": [
      "card_length        : (15.74%) null columns\n",
      "card_length_unit   : (15.74%) null columns\n",
      "RAM                : ( 4.41%) null columns\n",
      "RAM_unit           : ( 4.41%) null columns\n",
      "chipset            : ( 6.72%) null columns\n",
      "clock_speed        : (21.88%) null columns\n",
      "clock_speed_unit   : (21.88%) null columns\n",
      "merging            : ( 5.95%) null columns\n",
      "rating_count       : ( 0.00%) null columns\n",
      "questions_count    : ( 0.00%) null columns\n",
      "purchases_count    : ( 0.00%) null columns\n",
      "rating             : (54.51%) null columns\n",
      "name               : ( 0.00%) null columns\n",
      "price              : ( 1.54%) null columns\n"
     ]
    }
   ],
   "source": [
    "for col in df.columns:\n",
    "    not_null_count = df[col].isnull().sum()\n",
    "    num_rows = df.shape[0]\n",
    "    print(f\"{col:18} : ({(not_null_count / num_rows) * 100:5.2f}%) null columns\")"
   ]
  },
  {
   "cell_type": "code",
   "execution_count": 50,
   "metadata": {},
   "outputs": [
    {
     "name": "stdout",
     "output_type": "stream",
     "text": [
      "card_length_unit   : ['mm' None] \n",
      "RAM_unit           : ['GB' 'MB' None] \n",
      "clock_speed_unit   : ['MHz' None] \n",
      "merging            : ['Nie' 'NVLink' 'CrossFire' None 'SLI'] \n",
      "7\n"
     ]
    }
   ],
   "source": [
    "for col in df.select_dtypes(include=['object']).columns:\n",
    "    num_uniques = df[col].nunique()\n",
    "    if num_uniques < 10:\n",
    "        print(f\"{col:18} : {df[col].unique()} \")\n",
    "        \n",
    "print(df[df['RAM_unit']=='MB'].shape[0])"
   ]
  },
  {
   "cell_type": "markdown",
   "metadata": {},
   "source": [
    "<p> \n",
    "It is evident that certain GPUs use MB to specify the RAM capacity as a measurement unit.\n",
    "Therefore I will transform these outliers to represent RAM memory in GB.\n",
    "</p>"
   ]
  },
  {
   "cell_type": "code",
   "execution_count": 51,
   "metadata": {},
   "outputs": [],
   "source": [
    "df['RAM_GB'] = df['RAM'].copy()\n",
    "df.loc[df['RAM_unit'] == 'MB', 'RAM_GB'] = df.apply(\n",
    "    lambda x: x['RAM'] / 1024, axis=1\n",
    ")\n",
    "df.loc[df['merging'] == 'Nie', 'merging'] = 'No'"
   ]
  },
  {
   "cell_type": "code",
   "execution_count": 52,
   "metadata": {},
   "outputs": [
    {
     "data": {
      "text/plain": [
       "RAM_GB\n",
       "0.5       7\n",
       "1.0      15\n",
       "2.0      29\n",
       "4.0      55\n",
       "6.0      31\n",
       "8.0     143\n",
       "10.0      4\n",
       "12.0     54\n",
       "16.0    104\n",
       "20.0     14\n",
       "24.0     14\n",
       "32.0     16\n",
       "48.0     10\n",
       "64.0      1\n",
       "94.0      1\n",
       "Name: count, dtype: int64"
      ]
     },
     "execution_count": 52,
     "metadata": {},
     "output_type": "execute_result"
    }
   ],
   "source": [
    "# card length unit only in mm; clock speed unit only in MHz\n",
    "df['card_length_mm'] = df['card_length'].copy()\n",
    "df['clock_speed_MHz'] = df['clock_speed'].copy()\n",
    "\n",
    "cols_to_drop = ['RAM_unit','RAM','clock_speed_unit','card_length_unit','card_length','clock_speed']\n",
    "\n",
    "df.drop(columns=cols_to_drop, inplace=True)\n",
    "df['RAM_GB'].value_counts().sort_index(ascending=True)"
   ]
  },
  {
   "cell_type": "code",
   "execution_count": 59,
   "metadata": {},
   "outputs": [
    {
     "data": {
      "text/plain": [
       "clock_speed_MHz\n",
       "(1069.011, 1269.9]     17\n",
       "(1269.9, 1468.8]       40\n",
       "(1468.8, 1667.7]       32\n",
       "(1667.7, 1866.6]       65\n",
       "(1866.6, 2065.5]        5\n",
       "(2065.5, 2264.4]       15\n",
       "(2264.4, 2463.3]       36\n",
       "(2463.3, 2662.2]      144\n",
       "(2662.2, 2861.1]       38\n",
       "(2861.1, 3060.0]        8\n",
       "Name: count, dtype: int64"
      ]
     },
     "execution_count": 59,
     "metadata": {},
     "output_type": "execute_result"
    }
   ],
   "source": [
    "pd.cut(df['clock_speed_MHz'],bins=10).value_counts().sort_index(ascending=True)"
   ]
  },
  {
   "cell_type": "code",
   "execution_count": null,
   "metadata": {},
   "outputs": [
    {
     "name": "stdout",
     "output_type": "stream",
     "text": [
      "Missing values in price: 8\n",
      "Dataframe size before dropping rows: 521\n",
      "Dataframe size after dropping rows witth missing price: 513\n"
     ]
    }
   ],
   "source": [
    "print(f\"Missing values in price: {df['price'].isna().sum()}\")\n",
    "print(f\"Dataframe size before dropping rows: {df.shape[0]}\")\n",
    "df[df['price'].isna()==True]\n",
    "\n",
    "# It will not make any sense to keep the products with missinng prices, so I'm going to drop them\n",
    "df = df[df['price'].isna()==False]\n",
    "print(f\"Dataframe size after dropping rows witth missing price: {df.shape[0]}\")"
   ]
  },
  {
   "cell_type": "code",
   "execution_count": 55,
   "metadata": {},
   "outputs": [
    {
     "name": "stdout",
     "output_type": "stream",
     "text": [
      "<class 'pandas.core.frame.DataFrame'>\n",
      "Index: 513 entries, 0 to 520\n",
      "Data columns (total 11 columns):\n",
      " #   Column           Non-Null Count  Dtype  \n",
      "---  ------           --------------  -----  \n",
      " 0   chipset          478 non-null    object \n",
      " 1   merging          482 non-null    object \n",
      " 2   rating_count     513 non-null    int64  \n",
      " 3   questions_count  513 non-null    int64  \n",
      " 4   purchases_count  513 non-null    int64  \n",
      " 5   rating           231 non-null    float64\n",
      " 6   name             513 non-null    object \n",
      " 7   price            513 non-null    float64\n",
      " 8   RAM_GB           490 non-null    float64\n",
      " 9   card_length_mm   432 non-null    float64\n",
      " 10  clock_speed_MHz  400 non-null    float64\n",
      "dtypes: float64(5), int64(3), object(3)\n",
      "memory usage: 48.1+ KB\n"
     ]
    }
   ],
   "source": [
    "df.info()"
   ]
  },
  {
   "cell_type": "markdown",
   "metadata": {},
   "source": [
    "### New columns"
   ]
  },
  {
   "cell_type": "code",
   "execution_count": null,
   "metadata": {},
   "outputs": [
    {
     "data": {
      "text/html": [
       "<div>\n",
       "<style scoped>\n",
       "    .dataframe tbody tr th:only-of-type {\n",
       "        vertical-align: middle;\n",
       "    }\n",
       "\n",
       "    .dataframe tbody tr th {\n",
       "        vertical-align: top;\n",
       "    }\n",
       "\n",
       "    .dataframe thead th {\n",
       "        text-align: right;\n",
       "    }\n",
       "</style>\n",
       "<table border=\"1\" class=\"dataframe\">\n",
       "  <thead>\n",
       "    <tr style=\"text-align: right;\">\n",
       "      <th></th>\n",
       "      <th>PricePer1GB</th>\n",
       "      <th>PricePer100MHz</th>\n",
       "    </tr>\n",
       "  </thead>\n",
       "  <tbody>\n",
       "    <tr>\n",
       "      <th>count</th>\n",
       "      <td>490.000000</td>\n",
       "      <td>400.000000</td>\n",
       "    </tr>\n",
       "    <tr>\n",
       "      <th>mean</th>\n",
       "      <td>283.522331</td>\n",
       "      <td>209.144713</td>\n",
       "    </tr>\n",
       "    <tr>\n",
       "      <th>std</th>\n",
       "      <td>353.000639</td>\n",
       "      <td>506.676974</td>\n",
       "    </tr>\n",
       "    <tr>\n",
       "      <th>min</th>\n",
       "      <td>51.675000</td>\n",
       "      <td>23.459387</td>\n",
       "    </tr>\n",
       "    <tr>\n",
       "      <th>25%</th>\n",
       "      <td>151.567187</td>\n",
       "      <td>56.904549</td>\n",
       "    </tr>\n",
       "    <tr>\n",
       "      <th>50%</th>\n",
       "      <td>211.725625</td>\n",
       "      <td>87.829314</td>\n",
       "    </tr>\n",
       "    <tr>\n",
       "      <th>75%</th>\n",
       "      <td>301.445000</td>\n",
       "      <td>180.417785</td>\n",
       "    </tr>\n",
       "    <tr>\n",
       "      <th>max</th>\n",
       "      <td>5507.800000</td>\n",
       "      <td>8463.966794</td>\n",
       "    </tr>\n",
       "  </tbody>\n",
       "</table>\n",
       "</div>"
      ],
      "text/plain": [
       "       PricePer1GB  PricePer100MHz\n",
       "count   490.000000      400.000000\n",
       "mean    283.522331      209.144713\n",
       "std     353.000639      506.676974\n",
       "min      51.675000       23.459387\n",
       "25%     151.567187       56.904549\n",
       "50%     211.725625       87.829314\n",
       "75%     301.445000      180.417785\n",
       "max    5507.800000     8463.966794"
      ]
     },
     "execution_count": 63,
     "metadata": {},
     "output_type": "execute_result"
    }
   ],
   "source": [
    "df['PricePer1GB'] = round(df['price'] / df['RAM_GB'])\n",
    "df['PricePer100MHz'] = round(100 * df['price'] / df['clock_speed_MHz'])\n",
    "df[['PricePer1GB', 'PricePer100MHz']].describe()"
   ]
  },
  {
   "cell_type": "code",
   "execution_count": 64,
   "metadata": {},
   "outputs": [
    {
     "data": {
      "text/plain": [
       "Index(['chipset', 'merging', 'rating_count', 'questions_count',\n",
       "       'purchases_count', 'rating', 'name', 'price', 'RAM_GB',\n",
       "       'card_length_mm', 'clock_speed_MHz', 'PricePerGB', 'PricePer1GB',\n",
       "       'PricePer100MHz'],\n",
       "      dtype='object')"
      ]
     },
     "execution_count": 64,
     "metadata": {},
     "output_type": "execute_result"
    }
   ],
   "source": [
    "df.columns"
   ]
  }
 ],
 "metadata": {
  "kernelspec": {
   "display_name": "Python 3",
   "language": "python",
   "name": "python3"
  },
  "language_info": {
   "codemirror_mode": {
    "name": "ipython",
    "version": 3
   },
   "file_extension": ".py",
   "mimetype": "text/x-python",
   "name": "python",
   "nbconvert_exporter": "python",
   "pygments_lexer": "ipython3",
   "version": "3.12.3"
  }
 },
 "nbformat": 4,
 "nbformat_minor": 2
}
